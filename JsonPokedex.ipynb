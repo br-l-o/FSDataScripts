{
 "cells": [
  {
   "cell_type": "markdown",
   "metadata": {},
   "source": [
    "# Basic use of FSharp.Data and Interactive Notebooks\n",
    "\n",
    "Instead of using other plotting and graphing libraries, I'm trying to use Jupyter notebooks.\n",
    "\n",
    "There's already existing values in there, so let's use them!"
   ]
  },
  {
   "cell_type": "code",
   "execution_count": null,
   "metadata": {
    "dotnet_interactive": {
     "language": "fsharp"
    }
   },
   "outputs": [
    {
     "data": {
      "text/html": [
       "<table><thead><tr><th><i>index</i></th><th>value</th></tr></thead><tbody><tr><td>0</td><td>ID: 134\n",
       "Name: Vaporeon\n",
       "Height: 0.99 m\n",
       "Weight: 29.0 kg</td></tr><tr><td>1</td><td>ID: 135\n",
       "Name: Jolteon\n",
       "Height: 0.79 m\n",
       "Weight: 24.5 kg</td></tr><tr><td>2</td><td>ID: 136\n",
       "Name: Flareon\n",
       "Height: 0.89 m\n",
       "Weight: 25.0 kg</td></tr></tbody></table>"
      ]
     },
     "metadata": {},
     "output_type": "display_data"
    }
   ],
   "source": [
    "#load \"JsonPokedex.fsx\"\n",
    "open JsonPokedex\n",
    "\n",
    "eeveelutions"
   ]
  },
  {
   "cell_type": "markdown",
   "metadata": {},
   "source": [
    "I wonder if I can display charts inline?"
   ]
  },
  {
   "cell_type": "code",
   "execution_count": null,
   "metadata": {
    "dotnet_interactive": {
     "language": "fsharp"
    }
   },
   "outputs": [
    {
     "data": {
      "text/html": [
       "<!DOCTYPE html>\n",
       "<html>\n",
       "    <head>\n",
       "        <meta charset=\"UTF-8\" />\n",
       "        <script src=\"https://cdn.plot.ly/plotly-latest.min.js\"></script>\n",
       "    </head>\n",
       "    <body>\n",
       "        <div id=\"c79c71f1-30cb-487c-bc1e-37847b84b861\" style=\"width: 700px; height: 500px;\"></div>\n",
       "        <script>\n",
       "            var data = [{\"type\":\"bar\",\"x\":[33,32,24,19,14,14,14,12,12,11],\"y\":[\"Poison\",\"Water\",\"Normal\",\"Flying\",\"Grass\",\"Ground\",\"Psychic\",\"Fire\",\"Bug\",\"Rock\"],\"orientation\":\"h\"}];\n",
       "           var layout = {\"title\":\"Top 10 Pokemon Types\"};\n",
       "           Plotly.newPlot('c79c71f1-30cb-487c-bc1e-37847b84b861', data, layout);\n",
       "        </script>\n",
       "    </body>\n",
       "</html>"
      ]
     },
     "metadata": {},
     "output_type": "display_data"
    }
   ],
   "source": [
    "display(HTML(typeCountsTest |> GetHtmlChart \"Top 10 Pokemon Types\"))"
   ]
  }
 ],
 "metadata": {
  "kernelspec": {
   "display_name": ".NET (F#)",
   "language": "F#",
   "name": ".net-fsharp"
  },
  "language_info": {
   "name": "F#"
  }
 },
 "nbformat": 4,
 "nbformat_minor": 2
}
